{
 "cells": [
  {
   "cell_type": "markdown",
   "id": "5490906b",
   "metadata": {},
   "source": [
    "# bn"
   ]
  },
  {
   "cell_type": "code",
   "execution_count": null,
   "id": "bbda0290",
   "metadata": {},
   "outputs": [],
   "source": []
  }
 ],
 "metadata": {
  "language_info": {
   "name": "python"
  }
 },
 "nbformat": 4,
 "nbformat_minor": 5
}
