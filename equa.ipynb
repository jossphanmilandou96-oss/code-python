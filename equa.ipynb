{
 "cells": [
  {
   "cell_type": "code",
   "execution_count": null,
   "id": "b1220f36",
   "metadata": {},
   "outputs": [],
   "source": [
    "def say_hello(chain):\n",
    "    return f\"Hello, {chain}!h\""
   ]
  },
  {
   "cell_type": "code",
   "execution_count": 2,
   "id": "fa8bfc91",
   "metadata": {},
   "outputs": [
    {
     "name": "stdout",
     "output_type": "stream",
     "text": [
      "Hello, !\n"
     ]
    }
   ],
   "source": [
    "mon_nom = input(\"Enter your name: \")\n",
    "\n",
    "message = say_hello(mon_nom)\n",
    "\n",
    "print(message)"
   ]
  },
  {
   "cell_type": "code",
   "execution_count": 3,
   "id": "6067bc3d",
   "metadata": {},
   "outputs": [],
   "source": [
    "def resoud_equation(a, b, c):\n",
    "    # calculer le discriminant d\n",
    "    d = b**2 - 4*a*c\n",
    "\n",
    "    if d < 0:\n",
    "        return \"L'équation n'a pas de solution réelle.\"\n",
    "    elif d == 0:\n",
    "        x = -b / (2*a)\n",
    "        return f\"L'équation a une solution réelle double: x = {x}\"\n",
    "    else:\n",
    "        x1 = (-b + d**0.5) / (2*a)\n",
    "        x2 = (-b - d**0.5) / (2*a)\n",
    "        return f\"L'équation a deux solutions réelles distinctes: x1 = {x1}, x2 = {x2}\""
   ]
  },
  {
   "cell_type": "code",
   "execution_count": 9,
   "id": "9d004c88",
   "metadata": {},
   "outputs": [
    {
     "data": {
      "text/plain": [
       "\"L'équation a deux solutions réelles distinctes: x1 = -0.5, x2 = -1.0\""
      ]
     },
     "execution_count": 9,
     "metadata": {},
     "output_type": "execute_result"
    }
   ],
   "source": [
    "resoud_equation(2, 3, 1)"
   ]
  }
 ],
 "metadata": {
  "kernelspec": {
   "display_name": "base",
   "language": "python",
   "name": "python3"
  },
  "language_info": {
   "codemirror_mode": {
    "name": "ipython",
    "version": 3
   },
   "file_extension": ".py",
   "mimetype": "text/x-python",
   "name": "python",
   "nbconvert_exporter": "python",
   "pygments_lexer": "ipython3",
   "version": "3.12.7"
  }
 },
 "nbformat": 4,
 "nbformat_minor": 5
}
